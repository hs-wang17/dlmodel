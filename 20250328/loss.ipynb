{
 "cells": [
  {
   "cell_type": "code",
   "execution_count": 1,
   "metadata": {},
   "outputs": [],
   "source": [
    "import torch"
   ]
  },
  {
   "cell_type": "code",
   "execution_count": 2,
   "metadata": {},
   "outputs": [],
   "source": [
    "def simu_trade(output, target):\n",
    "    capital = 5e8                                                           # 总资金\n",
    "    target = target.to(output.device)\n",
    "    buyable_amount = target[:, 4].unsqueeze(-1).float().to(output.device)   # 每只股票最大可买入的资金数额\n",
    "    true_yields = target[:, 0].unsqueeze(-1).float().to(output.device)      # 真实收益率\n",
    "    predicted_yields = output.unsqueeze(-1).float()                         # 预测收益率\n",
    "    valid_mask = ~torch.isnan(buyable_amount) & ~torch.isnan(true_yields)   # 过滤掉缺失值\n",
    "    buyable_amount = buyable_amount[valid_mask]\n",
    "    true_yields = true_yields[valid_mask]\n",
    "    predicted_yields = predicted_yields[valid_mask]\n",
    "    top500_values, _ = torch.topk(predicted_yields, 500, largest=True, sorted=True)\n",
    "    value_500 = top500_values[-1]\n",
    "    buy_amount = buyable_amount[predicted_yields >= value_500]\n",
    "    true_yields = true_yields[predicted_yields >= value_500]\n",
    "    total_profit = torch.sum(buy_amount * true_yields) / capital            # 计算总收益率：股票收益总和 / 总资金\n",
    "    return total_profit\n",
    "\n",
    "def simu_trade_loss(output, target, temperature=1e-8):\n",
    "    capital = 5e8                                                           # 总资金\n",
    "    target = target.to(output.device)\n",
    "    buyable_amount = target[:, 4].unsqueeze(-1).float().to(output.device)   # 每只股票最大可买入的资金数额\n",
    "    true_yields = target[:, 0].unsqueeze(-1).float().to(output.device)      # 真实收益率\n",
    "    predicted_yields = output.unsqueeze(-1).float()                         # 预测收益率\n",
    "    valid_mask = ~torch.isnan(buyable_amount) & ~torch.isnan(true_yields)   # 过滤掉缺失值\n",
    "    buyable_amount = buyable_amount[valid_mask]\n",
    "    true_yields = true_yields[valid_mask]\n",
    "    predicted_yields = predicted_yields[valid_mask]\n",
    "    top500_values, _ = torch.topk(predicted_yields, 500, largest=True, sorted=True)\n",
    "    value_500 = top500_values[-1]\n",
    "    diff = (predicted_yields - value_500) / temperature\n",
    "    weights = torch.sigmoid(diff)\n",
    "    weighted_profit = torch.sum(buyable_amount * true_yields * weights)\n",
    "    total_profit = weighted_profit / capital\n",
    "    loss = -total_profit\n",
    "    return loss"
   ]
  },
  {
   "cell_type": "code",
   "execution_count": 3,
   "metadata": {},
   "outputs": [
    {
     "name": "stdout",
     "output_type": "stream",
     "text": [
      "-7.774396237891779e-08\n",
      "7.610611163499925e-08\n"
     ]
    }
   ],
   "source": [
    "output = torch.randn(1000, requires_grad=True)  # 模型输出\n",
    "target = torch.randn(1000, 5)  # 目标数据\n",
    "\n",
    "loss = simu_trade_loss(output, target)\n",
    "loss.backward()  # 反向传播\n",
    "print(loss.item())\n",
    "\n",
    "loss = simu_trade(output, target)\n",
    "# loss.backward()  # 无法反向传播\n",
    "print(loss.item())"
   ]
  },
  {
   "cell_type": "code",
   "execution_count": null,
   "metadata": {},
   "outputs": [],
   "source": []
  }
 ],
 "metadata": {
  "kernelspec": {
   "display_name": "Python 3",
   "language": "python",
   "name": "python3"
  },
  "language_info": {
   "codemirror_mode": {
    "name": "ipython",
    "version": 3
   },
   "file_extension": ".py",
   "mimetype": "text/x-python",
   "name": "python",
   "nbconvert_exporter": "python",
   "pygments_lexer": "ipython3",
   "version": "3.9.5"
  }
 },
 "nbformat": 4,
 "nbformat_minor": 2
}
