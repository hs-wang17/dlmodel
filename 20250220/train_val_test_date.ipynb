{
 "cells": [
  {
   "cell_type": "code",
   "execution_count": 2,
   "metadata": {},
   "outputs": [],
   "source": [
    "import pandas as pd\n",
    "import numpy as np\n",
    "from dateutil.relativedelta import relativedelta"
   ]
  },
  {
   "cell_type": "code",
   "execution_count": 3,
   "metadata": {},
   "outputs": [],
   "source": [
    "factor = pd.read_pickle('/home/datamake117/data/haris/dataset/total_date.pkl')  # 日期+股票代码\n",
    "total_date_list = np.array(factor['date'].drop_duplicates().tolist())           # 日期列表"
   ]
  },
  {
   "cell_type": "code",
   "execution_count": 4,
   "metadata": {},
   "outputs": [
    {
     "name": "stdout",
     "output_type": "stream",
     "text": [
      "Round 1.\n",
      "Train: 20200701 20220701 Validation: 20220701 20221230 Test: 20230101 20230701\n"
     ]
    }
   ],
   "source": [
    "# 第1轮\n",
    "print('Round 1.')\n",
    "round_num = 1\n",
    "dt1 = int(pd.to_datetime(\"2020-07-01\").strftime('%Y%m%d'))  # 训练集开始时间\n",
    "dt2 = int(pd.to_datetime(\"2022-07-01\").strftime('%Y%m%d'))  # 验证集开始时间\n",
    "dt3 = int(pd.to_datetime(\"2022-12-30\").strftime('%Y%m%d'))  # 验证集结束时间\n",
    "dt4 = int(pd.to_datetime(\"2023-01-01\").strftime('%Y%m%d'))  # 测试集开始时间\n",
    "dt5 = int(pd.to_datetime(\"2023-07-01\").strftime('%Y%m%d'))  # 测试集结束时间\n",
    "print('Train:', dt1, dt2, 'Validation:', dt2, dt3, 'Test:', dt4, dt5)"
   ]
  },
  {
   "cell_type": "code",
   "execution_count": null,
   "metadata": {},
   "outputs": [
    {
     "name": "stdout",
     "output_type": "stream",
     "text": [
      "Round 2.\n",
      "Train: 20210101 20230101 Validation: 20230101 20230331 Test: 20230401 20230701\n",
      "Round 3.\n",
      "Train: 20210401 20230401 Validation: 20230401 20230630 Test: 20230701 20231001\n",
      "Round 4.\n",
      "Train: 20210701 20230701 Validation: 20230701 20230928 Test: 20231001 20240101\n",
      "Round 5.\n",
      "Train: 20211001 20231001 Validation: 20231001 20231229 Test: 20240101 20240401\n",
      "Round 6.\n",
      "Train: 20220101 20240101 Validation: 20240101 20240329 Test: 20240401 20240701\n",
      "Round 7.\n",
      "Train: 20220401 20240401 Validation: 20240401 20240628 Test: 20240701 20241001\n",
      "Round 8.\n",
      "Train: 20220701 20240701 Validation: 20240701 20240930 Test: 20241001 20250101\n",
      "Round 9.\n",
      "Train: 20221001 20241001 Validation: 20241001 20241231 Test: 20250101 20250221\n"
     ]
    }
   ],
   "source": [
    "# 第2-8轮\n",
    "total_date_list = np.array(factor['date'].drop_duplicates().tolist())\n",
    "rolling_step = 3    # 3个月滚动训练\n",
    "window_size = 24    # 训练集大小\n",
    "val_size = 3        # 验证集大小\n",
    "corr_thres = 0.9\n",
    "for round_num in range(2, 10):\n",
    "    print('Round %i.' % round_num)\n",
    "    start_date = pd.to_datetime('2021-01-01')\n",
    "    dt1 = start_date + relativedelta(months=rolling_step * (round_num - 2))             # 训练集开始时间\n",
    "    dt2 = dt1 + relativedelta(months=window_size)                                       # 验证集开始时间\n",
    "    dt3 = dt2 + relativedelta(months=val_size)                                          # 验证集结束时间\n",
    "    dt4 = dt3                                                                           # 测试集开始时间\n",
    "    dt5 = min(dt3 + relativedelta(months=rolling_step), pd.to_datetime('2025-02-21'))   # 测试集结束时间\n",
    "    dt3 = total_date_list[total_date_list < int(dt3.strftime('%Y%m%d'))][-1]\n",
    "    dt1, dt2, dt3, dt4, dt5 = int(dt1.strftime('%Y%m%d')), int(dt2.strftime('%Y%m%d')), int(dt3), int(dt4.strftime('%Y%m%d')), int(dt5.strftime('%Y%m%d'))\n",
    "    print('Train:', dt1, dt2, 'Validation:', dt2, dt3, 'Test:', dt4, dt5)"
   ]
  },
  {
   "cell_type": "code",
   "execution_count": null,
   "metadata": {},
   "outputs": [],
   "source": []
  }
 ],
 "metadata": {
  "kernelspec": {
   "display_name": "Python 3",
   "language": "python",
   "name": "python3"
  },
  "language_info": {
   "codemirror_mode": {
    "name": "ipython",
    "version": 3
   },
   "file_extension": ".py",
   "mimetype": "text/x-python",
   "name": "python",
   "nbconvert_exporter": "python",
   "pygments_lexer": "ipython3",
   "version": "3.9.5"
  }
 },
 "nbformat": 4,
 "nbformat_minor": 2
}
